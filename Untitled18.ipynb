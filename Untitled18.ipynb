{
  "nbformat": 4,
  "nbformat_minor": 0,
  "metadata": {
    "colab": {
      "provenance": []
    },
    "kernelspec": {
      "name": "python3",
      "display_name": "Python 3"
    },
    "language_info": {
      "name": "python"
    }
  },
  "cells": [
    {
      "cell_type": "code",
      "execution_count": 5,
      "metadata": {
        "id": "gLDhrgbdykdp"
      },
      "outputs": [],
      "source": [
        "import pandas as pd\n",
        "import numpy as np\n",
        "from sklearn.model_selection import train_test_split\n",
        "from sklearn.preprocessing import StandardScaler, LabelEncoder\n",
        "from sklearn.ensemble import RandomForestClassifier, GradientBoostingClassifier\n",
        "from sklearn.metrics import accuracy_score, precision_score, recall_score, f1_score, confusion_matrix, classification_report"
      ]
    },
    {
      "cell_type": "code",
      "source": [
        "df = pd.read_csv('/content/Train_data.csv')"
      ],
      "metadata": {
        "id": "-K73LS9BzUTz"
      },
      "execution_count": 6,
      "outputs": []
    },
    {
      "cell_type": "code",
      "source": [
        "print(df.head())"
      ],
      "metadata": {
        "colab": {
          "base_uri": "https://localhost:8080/"
        },
        "id": "WZxnkgmwz4Hh",
        "outputId": "23538957-83c3-4b54-fdec-0411f145dbd9"
      },
      "execution_count": 7,
      "outputs": [
        {
          "output_type": "stream",
          "name": "stdout",
          "text": [
            "    Glucose  Cholesterol  Hemoglobin  Platelets  White Blood Cells  \\\n",
            "0  0.739597     0.650198    0.713631   0.868491           0.687433   \n",
            "1  0.121786     0.023058    0.944893   0.905372           0.507711   \n",
            "2  0.452539     0.116135    0.544560   0.400640           0.294538   \n",
            "3  0.136609     0.015605    0.419957   0.191487           0.081168   \n",
            "4  0.176737     0.752220    0.971779   0.785286           0.443880   \n",
            "\n",
            "   Red Blood Cells  Hematocrit  Mean Corpuscular Volume  \\\n",
            "0         0.529895    0.290006                 0.631045   \n",
            "1         0.403033    0.164216                 0.307553   \n",
            "2         0.382021    0.625267                 0.295122   \n",
            "3         0.166214    0.073293                 0.668719   \n",
            "4         0.439851    0.894991                 0.442159   \n",
            "\n",
            "   Mean Corpuscular Hemoglobin  Mean Corpuscular Hemoglobin Concentration  \\\n",
            "0                     0.001328                                   0.795829   \n",
            "1                     0.207938                                   0.505562   \n",
            "2                     0.868369                                   0.026808   \n",
            "3                     0.125447                                   0.501051   \n",
            "4                     0.257288                                   0.805987   \n",
            "\n",
            "   ...     HbA1c  LDL Cholesterol  HDL Cholesterol       ALT       AST  \\\n",
            "0  ...  0.502665         0.215560         0.512941  0.064187  0.610827   \n",
            "1  ...  0.856810         0.652465         0.106961  0.942549  0.344261   \n",
            "2  ...  0.466795         0.387332         0.421763  0.007186  0.506918   \n",
            "3  ...  0.016256         0.040137         0.826721  0.265415  0.594148   \n",
            "4  ...  0.429431         0.146294         0.221574  0.015280  0.567115   \n",
            "\n",
            "   Heart Rate  Creatinine  Troponin  C-reactive Protein   Disease  \n",
            "0    0.939485    0.095512  0.465957            0.769230   Healthy  \n",
            "1    0.666368    0.659060  0.816982            0.401166  Diabetes  \n",
            "2    0.431704    0.417295  0.799074            0.779208  Thalasse  \n",
            "3    0.225756    0.490349  0.637061            0.354094    Anemia  \n",
            "4    0.841412    0.153350  0.794008            0.094970  Thalasse  \n",
            "\n",
            "[5 rows x 25 columns]\n"
          ]
        }
      ]
    },
    {
      "cell_type": "code",
      "source": [
        "print(df.isnull().sum())"
      ],
      "metadata": {
        "colab": {
          "base_uri": "https://localhost:8080/"
        },
        "id": "LKABgpQDz648",
        "outputId": "4efc162e-b16b-4e7f-f6d9-cbd7fcd72187"
      },
      "execution_count": 8,
      "outputs": [
        {
          "output_type": "stream",
          "name": "stdout",
          "text": [
            "Glucose                                      0\n",
            "Cholesterol                                  0\n",
            "Hemoglobin                                   0\n",
            "Platelets                                    0\n",
            "White Blood Cells                            0\n",
            "Red Blood Cells                              0\n",
            "Hematocrit                                   0\n",
            "Mean Corpuscular Volume                      0\n",
            "Mean Corpuscular Hemoglobin                  0\n",
            "Mean Corpuscular Hemoglobin Concentration    0\n",
            "Insulin                                      0\n",
            "BMI                                          0\n",
            "Systolic Blood Pressure                      0\n",
            "Diastolic Blood Pressure                     0\n",
            "Triglycerides                                0\n",
            "HbA1c                                        0\n",
            "LDL Cholesterol                              0\n",
            "HDL Cholesterol                              0\n",
            "ALT                                          0\n",
            "AST                                          0\n",
            "Heart Rate                                   0\n",
            "Creatinine                                   0\n",
            "Troponin                                     0\n",
            "C-reactive Protein                           0\n",
            "Disease                                      0\n",
            "dtype: int64\n"
          ]
        }
      ]
    },
    {
      "cell_type": "code",
      "source": [
        "X = df.drop(columns=['Disease'])\n",
        "y = df['Disease']\n"
      ],
      "metadata": {
        "id": "aYTNZ8_8z-hO"
      },
      "execution_count": 9,
      "outputs": []
    },
    {
      "cell_type": "code",
      "source": [
        "label_encoder = LabelEncoder()\n",
        "y = label_encoder.fit_transform(y)\n"
      ],
      "metadata": {
        "id": "bCSrb_-00CJG"
      },
      "execution_count": 10,
      "outputs": []
    },
    {
      "cell_type": "code",
      "source": [
        "X_train, X_test, y_train, y_test = train_test_split(X, y, test_size=0.2, random_state=42)\n"
      ],
      "metadata": {
        "id": "nQ__mK9f0GYD"
      },
      "execution_count": 11,
      "outputs": []
    },
    {
      "cell_type": "code",
      "source": [
        "scaler = StandardScaler()\n",
        "X_train = scaler.fit_transform(X_train)\n",
        "X_test = scaler.transform(X_test)"
      ],
      "metadata": {
        "id": "hkqYreoi0K9S"
      },
      "execution_count": 12,
      "outputs": []
    },
    {
      "cell_type": "code",
      "source": [
        "rf_model = RandomForestClassifier(random_state=42)\n",
        "gb_model = GradientBoostingClassifier(random_state=42)\n",
        "\n",
        "# Train the models\n",
        "rf_model.fit(X_train, y_train)\n",
        "gb_model.fit(X_train, y_train)"
      ],
      "metadata": {
        "colab": {
          "base_uri": "https://localhost:8080/",
          "height": 74
        },
        "id": "t4hlbcXY0OMu",
        "outputId": "58f7f80e-39ff-4d77-a1a8-2680cba15fc1"
      },
      "execution_count": 13,
      "outputs": [
        {
          "output_type": "execute_result",
          "data": {
            "text/plain": [
              "GradientBoostingClassifier(random_state=42)"
            ],
            "text/html": [
              "<style>#sk-container-id-1 {color: black;background-color: white;}#sk-container-id-1 pre{padding: 0;}#sk-container-id-1 div.sk-toggleable {background-color: white;}#sk-container-id-1 label.sk-toggleable__label {cursor: pointer;display: block;width: 100%;margin-bottom: 0;padding: 0.3em;box-sizing: border-box;text-align: center;}#sk-container-id-1 label.sk-toggleable__label-arrow:before {content: \"▸\";float: left;margin-right: 0.25em;color: #696969;}#sk-container-id-1 label.sk-toggleable__label-arrow:hover:before {color: black;}#sk-container-id-1 div.sk-estimator:hover label.sk-toggleable__label-arrow:before {color: black;}#sk-container-id-1 div.sk-toggleable__content {max-height: 0;max-width: 0;overflow: hidden;text-align: left;background-color: #f0f8ff;}#sk-container-id-1 div.sk-toggleable__content pre {margin: 0.2em;color: black;border-radius: 0.25em;background-color: #f0f8ff;}#sk-container-id-1 input.sk-toggleable__control:checked~div.sk-toggleable__content {max-height: 200px;max-width: 100%;overflow: auto;}#sk-container-id-1 input.sk-toggleable__control:checked~label.sk-toggleable__label-arrow:before {content: \"▾\";}#sk-container-id-1 div.sk-estimator input.sk-toggleable__control:checked~label.sk-toggleable__label {background-color: #d4ebff;}#sk-container-id-1 div.sk-label input.sk-toggleable__control:checked~label.sk-toggleable__label {background-color: #d4ebff;}#sk-container-id-1 input.sk-hidden--visually {border: 0;clip: rect(1px 1px 1px 1px);clip: rect(1px, 1px, 1px, 1px);height: 1px;margin: -1px;overflow: hidden;padding: 0;position: absolute;width: 1px;}#sk-container-id-1 div.sk-estimator {font-family: monospace;background-color: #f0f8ff;border: 1px dotted black;border-radius: 0.25em;box-sizing: border-box;margin-bottom: 0.5em;}#sk-container-id-1 div.sk-estimator:hover {background-color: #d4ebff;}#sk-container-id-1 div.sk-parallel-item::after {content: \"\";width: 100%;border-bottom: 1px solid gray;flex-grow: 1;}#sk-container-id-1 div.sk-label:hover label.sk-toggleable__label {background-color: #d4ebff;}#sk-container-id-1 div.sk-serial::before {content: \"\";position: absolute;border-left: 1px solid gray;box-sizing: border-box;top: 0;bottom: 0;left: 50%;z-index: 0;}#sk-container-id-1 div.sk-serial {display: flex;flex-direction: column;align-items: center;background-color: white;padding-right: 0.2em;padding-left: 0.2em;position: relative;}#sk-container-id-1 div.sk-item {position: relative;z-index: 1;}#sk-container-id-1 div.sk-parallel {display: flex;align-items: stretch;justify-content: center;background-color: white;position: relative;}#sk-container-id-1 div.sk-item::before, #sk-container-id-1 div.sk-parallel-item::before {content: \"\";position: absolute;border-left: 1px solid gray;box-sizing: border-box;top: 0;bottom: 0;left: 50%;z-index: -1;}#sk-container-id-1 div.sk-parallel-item {display: flex;flex-direction: column;z-index: 1;position: relative;background-color: white;}#sk-container-id-1 div.sk-parallel-item:first-child::after {align-self: flex-end;width: 50%;}#sk-container-id-1 div.sk-parallel-item:last-child::after {align-self: flex-start;width: 50%;}#sk-container-id-1 div.sk-parallel-item:only-child::after {width: 0;}#sk-container-id-1 div.sk-dashed-wrapped {border: 1px dashed gray;margin: 0 0.4em 0.5em 0.4em;box-sizing: border-box;padding-bottom: 0.4em;background-color: white;}#sk-container-id-1 div.sk-label label {font-family: monospace;font-weight: bold;display: inline-block;line-height: 1.2em;}#sk-container-id-1 div.sk-label-container {text-align: center;}#sk-container-id-1 div.sk-container {/* jupyter's `normalize.less` sets `[hidden] { display: none; }` but bootstrap.min.css set `[hidden] { display: none !important; }` so we also need the `!important` here to be able to override the default hidden behavior on the sphinx rendered scikit-learn.org. See: https://github.com/scikit-learn/scikit-learn/issues/21755 */display: inline-block !important;position: relative;}#sk-container-id-1 div.sk-text-repr-fallback {display: none;}</style><div id=\"sk-container-id-1\" class=\"sk-top-container\"><div class=\"sk-text-repr-fallback\"><pre>GradientBoostingClassifier(random_state=42)</pre><b>In a Jupyter environment, please rerun this cell to show the HTML representation or trust the notebook. <br />On GitHub, the HTML representation is unable to render, please try loading this page with nbviewer.org.</b></div><div class=\"sk-container\" hidden><div class=\"sk-item\"><div class=\"sk-estimator sk-toggleable\"><input class=\"sk-toggleable__control sk-hidden--visually\" id=\"sk-estimator-id-1\" type=\"checkbox\" checked><label for=\"sk-estimator-id-1\" class=\"sk-toggleable__label sk-toggleable__label-arrow\">GradientBoostingClassifier</label><div class=\"sk-toggleable__content\"><pre>GradientBoostingClassifier(random_state=42)</pre></div></div></div></div></div>"
            ]
          },
          "metadata": {},
          "execution_count": 13
        }
      ]
    },
    {
      "cell_type": "code",
      "source": [
        "new_test_df = pd.read_csv('/content/Train_data.csv')"
      ],
      "metadata": {
        "id": "zUCKpSG80SE3"
      },
      "execution_count": 14,
      "outputs": []
    },
    {
      "cell_type": "code",
      "source": [
        "print(new_test_df.isnull().sum())"
      ],
      "metadata": {
        "colab": {
          "base_uri": "https://localhost:8080/"
        },
        "id": "gnHmdySt0YQ9",
        "outputId": "f1557f79-417c-4ea2-97c7-20fa8b594920"
      },
      "execution_count": 15,
      "outputs": [
        {
          "output_type": "stream",
          "name": "stdout",
          "text": [
            "Glucose                                      0\n",
            "Cholesterol                                  0\n",
            "Hemoglobin                                   0\n",
            "Platelets                                    0\n",
            "White Blood Cells                            0\n",
            "Red Blood Cells                              0\n",
            "Hematocrit                                   0\n",
            "Mean Corpuscular Volume                      0\n",
            "Mean Corpuscular Hemoglobin                  0\n",
            "Mean Corpuscular Hemoglobin Concentration    0\n",
            "Insulin                                      0\n",
            "BMI                                          0\n",
            "Systolic Blood Pressure                      0\n",
            "Diastolic Blood Pressure                     0\n",
            "Triglycerides                                0\n",
            "HbA1c                                        0\n",
            "LDL Cholesterol                              0\n",
            "HDL Cholesterol                              0\n",
            "ALT                                          0\n",
            "AST                                          0\n",
            "Heart Rate                                   0\n",
            "Creatinine                                   0\n",
            "Troponin                                     0\n",
            "C-reactive Protein                           0\n",
            "Disease                                      0\n",
            "dtype: int64\n"
          ]
        }
      ]
    },
    {
      "cell_type": "code",
      "source": [
        "X_new_test = new_test_df.drop(columns=['Disease'])\n",
        "y_new_test = new_test_df['Disease']"
      ],
      "metadata": {
        "id": "32b6_XnJ0dHC"
      },
      "execution_count": 16,
      "outputs": []
    },
    {
      "cell_type": "code",
      "source": [
        "y_new_test = label_encoder.transform(y_new_test)"
      ],
      "metadata": {
        "id": "7VrQwSyd0iK7"
      },
      "execution_count": 17,
      "outputs": []
    },
    {
      "cell_type": "code",
      "source": [
        "# Normalize/scale the new test features using the same scaler fit on training data\n",
        "X_new_test = scaler.transform(X_new_test)"
      ],
      "metadata": {
        "id": "YCPxydIv0vqi"
      },
      "execution_count": 18,
      "outputs": []
    },
    {
      "cell_type": "code",
      "source": [
        "rf_new_pred = rf_model.predict(X_new_test)\n",
        "gb_new_pred = gb_model.predict(X_new_test)"
      ],
      "metadata": {
        "id": "rBsTKe_M0ylS"
      },
      "execution_count": 19,
      "outputs": []
    },
    {
      "cell_type": "code",
      "source": [
        "def evaluate_model(y_true, y_pred, model_name):\n",
        "    print(f\"Evaluation Metrics for {model_name}:\")\n",
        "    print(f\"Accuracy: {accuracy_score(y_true, y_pred):.4f}\")\n",
        "    print(f\"Precision: {precision_score(y_true, y_pred, average='macro'):.4f}\")\n",
        "    print(f\"Recall: {recall_score(y_true, y_pred, average='macro'):.4f}\")\n",
        "    print(f\"F1-score: {f1_score(y_true, y_pred, average='macro'):.4f}\")\n",
        "    print(\"Confusion Matrix:\")\n",
        "    print(confusion_matrix(y_true, y_pred))\n",
        "    print(\"Classification Report:\")\n",
        "    print(classification_report(y_true, y_pred))"
      ],
      "metadata": {
        "id": "Ku9rODVX01Fp"
      },
      "execution_count": 20,
      "outputs": []
    },
    {
      "cell_type": "code",
      "source": [
        "evaluate_model(y_new_test, rf_new_pred, \"Random Forest\")"
      ],
      "metadata": {
        "colab": {
          "base_uri": "https://localhost:8080/"
        },
        "id": "QprKpbPa03pg",
        "outputId": "fb590efb-aa62-47b8-9909-80fbe4a24779"
      },
      "execution_count": 21,
      "outputs": [
        {
          "output_type": "stream",
          "name": "stdout",
          "text": [
            "Evaluation Metrics for Random Forest:\n",
            "Accuracy: 1.0000\n",
            "Precision: 1.0000\n",
            "Recall: 1.0000\n",
            "F1-score: 1.0000\n",
            "Confusion Matrix:\n",
            "[[623   0   0   0   0]\n",
            " [  0 540   0   0   0]\n",
            " [  0   0 556   0   0]\n",
            " [  0   0   0 509   0]\n",
            " [  0   0   0   0 123]]\n",
            "Classification Report:\n",
            "              precision    recall  f1-score   support\n",
            "\n",
            "           0       1.00      1.00      1.00       623\n",
            "           1       1.00      1.00      1.00       540\n",
            "           2       1.00      1.00      1.00       556\n",
            "           3       1.00      1.00      1.00       509\n",
            "           4       1.00      1.00      1.00       123\n",
            "\n",
            "    accuracy                           1.00      2351\n",
            "   macro avg       1.00      1.00      1.00      2351\n",
            "weighted avg       1.00      1.00      1.00      2351\n",
            "\n"
          ]
        }
      ]
    },
    {
      "cell_type": "code",
      "source": [
        "evaluate_model(y_new_test, gb_new_pred, \"Gradient Boosting\")"
      ],
      "metadata": {
        "colab": {
          "base_uri": "https://localhost:8080/"
        },
        "id": "OK4U_aaI05yx",
        "outputId": "bb551e37-625a-434a-b16c-bef966c0a951"
      },
      "execution_count": 22,
      "outputs": [
        {
          "output_type": "stream",
          "name": "stdout",
          "text": [
            "Evaluation Metrics for Gradient Boosting:\n",
            "Accuracy: 1.0000\n",
            "Precision: 1.0000\n",
            "Recall: 1.0000\n",
            "F1-score: 1.0000\n",
            "Confusion Matrix:\n",
            "[[623   0   0   0   0]\n",
            " [  0 540   0   0   0]\n",
            " [  0   0 556   0   0]\n",
            " [  0   0   0 509   0]\n",
            " [  0   0   0   0 123]]\n",
            "Classification Report:\n",
            "              precision    recall  f1-score   support\n",
            "\n",
            "           0       1.00      1.00      1.00       623\n",
            "           1       1.00      1.00      1.00       540\n",
            "           2       1.00      1.00      1.00       556\n",
            "           3       1.00      1.00      1.00       509\n",
            "           4       1.00      1.00      1.00       123\n",
            "\n",
            "    accuracy                           1.00      2351\n",
            "   macro avg       1.00      1.00      1.00      2351\n",
            "weighted avg       1.00      1.00      1.00      2351\n",
            "\n"
          ]
        }
      ]
    },
    {
      "cell_type": "code",
      "source": [
        "from sklearn.model_selection import cross_val_score\n",
        "\n",
        "# Perform cross-validation on the training data\n",
        "rf_cv_scores = cross_val_score(rf_model, X_train, y_train, cv=5)\n",
        "gb_cv_scores = cross_val_score(gb_model, X_train, y_train, cv=5)\n",
        "\n",
        "print(\"Random Forest Cross-Validation Scores:\", rf_cv_scores)\n",
        "print(\"Gradient Boosting Cross-Validation Scores:\", gb_cv_scores)\n"
      ],
      "metadata": {
        "colab": {
          "base_uri": "https://localhost:8080/"
        },
        "id": "5rnepaUs0_gJ",
        "outputId": "73c6abae-f85d-46d6-e8dc-11e512c81199"
      },
      "execution_count": 23,
      "outputs": [
        {
          "output_type": "stream",
          "name": "stdout",
          "text": [
            "Random Forest Cross-Validation Scores: [1. 1. 1. 1. 1.]\n",
            "Gradient Boosting Cross-Validation Scores: [1. 1. 1. 1. 1.]\n"
          ]
        }
      ]
    },
    {
      "cell_type": "code",
      "source": [
        "from sklearn.model_selection import GridSearchCV\n",
        "\n",
        "# Define the parameter grid\n",
        "param_grid = {\n",
        "    'n_estimators': [50, 100, 200],\n",
        "    'max_depth': [None, 10, 20],\n",
        "    'min_samples_split': [2, 5, 10],\n",
        "    'min_samples_leaf': [1, 2, 4]\n",
        "}\n",
        "\n",
        "# Initialize Random Forest model\n",
        "rf_model = RandomForestClassifier(random_state=42)\n",
        "\n",
        "# Perform grid search with 5-fold cross-validation\n",
        "grid_search = GridSearchCV(rf_model, param_grid, cv=5, scoring='accuracy')\n",
        "grid_search.fit(X_train, y_train)\n",
        "\n",
        "# Get the best parameters and best score\n",
        "print(\"Best Parameters:\", grid_search.best_params_)\n",
        "print(\"Best Score:\", grid_search.best_score_)\n"
      ],
      "metadata": {
        "colab": {
          "base_uri": "https://localhost:8080/"
        },
        "id": "NXPh6CDe21kL",
        "outputId": "f11ee8a4-a1a7-4f4d-d5f9-6cd54215a01b"
      },
      "execution_count": 24,
      "outputs": [
        {
          "output_type": "stream",
          "name": "stdout",
          "text": [
            "Best Parameters: {'max_depth': None, 'min_samples_leaf': 1, 'min_samples_split': 2, 'n_estimators': 50}\n",
            "Best Score: 1.0\n"
          ]
        }
      ]
    },
    {
      "cell_type": "code",
      "source": [
        "# Initialize Random Forest model with best parameters\n",
        "best_rf_model = RandomForestClassifier(max_depth=None, min_samples_leaf=1, min_samples_split=2, n_estimators=50, random_state=42)\n",
        "\n",
        "# Train the model on the full training data\n",
        "best_rf_model.fit(X_train, y_train)\n",
        "\n",
        "# Evaluate the model on the test data\n",
        "test_accuracy = best_rf_model.score(X_test, y_test)\n",
        "print(\"Test Accuracy:\", test_accuracy)\n"
      ],
      "metadata": {
        "colab": {
          "base_uri": "https://localhost:8080/"
        },
        "id": "ZTc1gPNW3YCs",
        "outputId": "3c7a6560-5a8b-4937-85ff-01eede1ebffc"
      },
      "execution_count": 25,
      "outputs": [
        {
          "output_type": "stream",
          "name": "stdout",
          "text": [
            "Test Accuracy: 1.0\n"
          ]
        }
      ]
    },
    {
      "cell_type": "code",
      "source": [],
      "metadata": {
        "id": "98f4dF604Qi2"
      },
      "execution_count": null,
      "outputs": []
    }
  ]
}